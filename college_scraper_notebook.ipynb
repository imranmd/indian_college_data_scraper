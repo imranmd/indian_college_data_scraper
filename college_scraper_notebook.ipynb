{
 "cells": [
  {
   "cell_type": "markdown",
   "metadata": {},
   "source": [
    "# Scrape Indian College Data"
   ]
  },
  {
   "cell_type": "markdown",
   "metadata": {},
   "source": [
    "## Import packages\n",
    "If you do not have anaconda installed, you will have to install the following packages using your package manager. Using pip, you can install them as: <br>\n",
    "```\n",
    "pip install BeautifulSoup4 pandas\n",
    "```\n",
    "BeautifulSoup4 package makes extracting information from html easier."
   ]
  },
  {
   "cell_type": "code",
   "execution_count": null,
   "metadata": {},
   "outputs": [],
   "source": [
    "from urllib.request import urlopen, Request\n",
    "from bs4 import BeautifulSoup\n",
    "import pandas as pd"
   ]
  },
  {
   "cell_type": "markdown",
   "metadata": {},
   "source": [
    "## Manually list all state urls\n",
    "You'll have to use the following links one by one to scrape data."
   ]
  },
  {
   "cell_type": "code",
   "execution_count": null,
   "metadata": {},
   "outputs": [],
   "source": [
    "state_urls = [\"https://targetstudy.com/colleges/colleges-in-andhra-pradesh.html\",\n",
    "\"https://targetstudy.com/colleges/colleges-in-arunachal-pradesh.html\",\n",
    "\"https://targetstudy.com/colleges/colleges-in-assam.html\",\n",
    "\"https://targetstudy.com/colleges/colleges-in-bihar.html\",\n",
    "\"https://targetstudy.com/colleges/colleges-in-chandigarh.html\",\n",
    "\"https://targetstudy.com/colleges/colleges-in-chhattisgarh.html\",\n",
    "\"https://targetstudy.com/colleges/colleges-in-dadra-and-nagar-haveli.html\",\n",
    "\"https://targetstudy.com/colleges/colleges-in-daman-and-diu.html\",\n",
    "\"https://targetstudy.com/colleges/colleges-in-delhi.html\",\n",
    "\"https://targetstudy.com/colleges/colleges-in-goa.html\",\n",
    "\"https://targetstudy.com/colleges/colleges-in-gujarat.html\",\n",
    "\"https://targetstudy.com/colleges/colleges-in-haryana.html\",\n",
    "\"https://targetstudy.com/colleges/colleges-in-himachal-pradesh.html\",\n",
    "\"https://targetstudy.com/colleges/colleges-in-jammu-and-kashmir.html\",\n",
    "\"https://targetstudy.com/colleges/colleges-in-jharkhand.html\",\n",
    "\"https://targetstudy.com/colleges/colleges-in-karnataka.html\",\n",
    "\"https://targetstudy.com/colleges/colleges-in-kerala.html\",\n",
    "# \"https://targetstudy.com/colleges/colleges-in-lakshadweep.html\", # doesn't have any college data\n",
    "\"https://targetstudy.com/colleges/colleges-in-madhya-pradesh.html\",\n",
    "\"https://targetstudy.com/colleges/colleges-in-maharashtra.html\",\n",
    "\"https://targetstudy.com/colleges/colleges-in-manipur.html\",\n",
    "\"https://targetstudy.com/colleges/colleges-in-meghalaya.html\",\n",
    "\"https://targetstudy.com/colleges/colleges-in-mizoram.html\",\n",
    "\"https://targetstudy.com/colleges/colleges-in-nagaland.html\",\n",
    "\"https://targetstudy.com/colleges/colleges-in-orissa.html\",\n",
    "\"https://targetstudy.com/colleges/colleges-in-puducherry.html\",\n",
    "\"https://targetstudy.com/colleges/colleges-in-punjab.html\",\n",
    "\"https://targetstudy.com/colleges/colleges-in-rajasthan.html\",\n",
    "\"https://targetstudy.com/colleges/colleges-in-sikkim.html\",\n",
    "\"https://targetstudy.com/colleges/colleges-in-tamil-nadu.html\",\n",
    "\"https://targetstudy.com/colleges/colleges-in-tripura.html\",\n",
    "\"https://targetstudy.com/colleges/colleges-in-uttar-pradesh.html\",\n",
    "\"https://targetstudy.com/colleges/colleges-in-uttarakhand.html\",\n",
    "\"https://targetstudy.com/colleges/colleges-in-west-bengal.html\"]"
   ]
  },
  {
   "cell_type": "markdown",
   "metadata": {},
   "source": [
    "## Request data from every webpage of a college\n",
    "If we scrape all the college data in one go, the site crashes. It would be better to scrape one college at a time. \n",
    "1. Change *state_url* in below cell to one of the links in *state_urls* of the college you wish to scrape. \n",
    "2. Get the number of pages in that state.\n",
    "3. We'll send a request for every webpage saving college names in *state_college_names*. and college urls in *state_college_urls*.\n"
   ]
  },
  {
   "cell_type": "code",
   "execution_count": null,
   "metadata": {},
   "outputs": [],
   "source": [
    "state_url = \"https://targetstudy.com/colleges/colleges-in-chandigarh.html\"\n",
    "\n",
    "#send request for first page\n",
    "request = Request(state_url, headers={'User-Agent': 'Mozilla/5.0'})\n",
    "response = urlopen(request).read()\n",
    "state_soup = BeautifulSoup(response, 'html')\n",
    "top_right = state_soup.find_all('div', {'class': ['top-small-heading-bar']})[0].div.strong.text.split(' ')\n",
    "\n",
    "# get number webpages for the state\n",
    "num_pages = 0\n",
    "if len(top_right) > 4:\n",
    "    num_pages = int(top_right[-1][:-1])\n",
    "else:\n",
    "    num_pages = int(top_right[2])\n",
    "\n",
    "print(\"Total number of pages in this state link: \", num_pages)\n",
    "print(\"Getting page 1\")\n",
    "\n",
    "state_college_names = [] # list containing all college names for the state\n",
    "state_college_urls = [] # list containing all individual college url for the state\n",
    "\n",
    "state_college_names += [i.text for i in state_soup.find_all('a', {'class': ['heading1']}) if 'targetstudy.com/institute' in str(i)]\n",
    "state_college_urls += [i.get('href') for i in state_soup.find_all('a', {'class': ['heading1']}) if 'targetstudy.com/institute' in str(i)]\n",
    "\n",
    "#send request for every page\n",
    "if num_pages > 1:\n",
    "    for page in range(num_pages-1):\n",
    "        print(\"Getting page \", page + 2)\n",
    "        request = Request(\"https://targetstudy.com/colleges/colleges-in-chandigarh.html\" + \"?recNo=\" + str((page + 1)*10), headers={'User-Agent': 'Mozilla/5.0'})\n",
    "        response = urlopen(request).read()\n",
    "        state_soup = BeautifulSoup(response, 'html')\n",
    "        state_college_names += [i.text for i in state_soup.find_all('a', {'class': ['heading1']}) if 'targetstudy.com/institute' in str(i)]\n",
    "        state_college_urls += [i.get('href') for i in state_soup.find_all('a', {'class': ['heading1']}) if 'targetstudy.com/institute' in str(i)]\n",
    "\n",
    "print(\"Urls of {} colleges collected.\".format(len(state_college_urls)))"
   ]
  },
  {
   "cell_type": "markdown",
   "metadata": {},
   "source": [
    "## Request data from every college url\n",
    "Now, we will send request to every college url saving college addresses in *state_college_addresses* and college phone numbers in *state_college_phone*."
   ]
  },
  {
   "cell_type": "code",
   "execution_count": null,
   "metadata": {
    "collapsed": true
   },
   "outputs": [],
   "source": [
    "def get_phone_from_address(address):\n",
    "    if len(address) < 3:\n",
    "        return \"N/A\"\n",
    "    elif len(address) < 4:\n",
    "        return (address[2].text)\n",
    "    elif len(address) < 5:\n",
    "        return (address[2].text + address[3].text)\n",
    "    elif len(address) < 6:\n",
    "        return (address[2].text + address[3].text + address[4].text)\n",
    "    else:\n",
    "        return (address[2].text + address[3].text + address[4].text + address[5].text)"
   ]
  },
  {
   "cell_type": "code",
   "execution_count": null,
   "metadata": {},
   "outputs": [],
   "source": [
    "state_college_addresses = []\n",
    "state_college_phones = []\n",
    "\n",
    "for i, college_url in enumerate(state_college_urls):\n",
    "        \n",
    "    r = Request(college_url, headers={'User-Agent': 'Mozilla/5.0'})\n",
    "    response = urlopen(r).read()\n",
    "    soup1 = BeautifulSoup(response, 'html')\n",
    "    \n",
    "    if (i%10 == 0):\n",
    "        print(\"Getting data of college \", i+1)\n",
    "    \n",
    "    full_address = [i for i in soup1.find_all('table')[0].find_all('td')]\n",
    "    address = full_address[1].text.replace(u'\\xa0', u' ')\n",
    "    phone = get_phone_from_address(full_address)\n",
    "    phone = phone.replace(u'\\xa0', u' ')\n",
    "    \n",
    "    state_college_addresses.append(address)\n",
    "    state_college_phones.append(phone)\n",
    "print(\"Data from {} colleges collected.\".format(len(colleges_url)))"
   ]
  },
  {
   "cell_type": "markdown",
   "metadata": {},
   "source": [
    "## Print collected data"
   ]
  },
  {
   "cell_type": "code",
   "execution_count": null,
   "metadata": {},
   "outputs": [],
   "source": [
    "print(\"Total college names collected: \", len(state_college_names))\n",
    "print(\"Total college addresses collected: \", len(state_college_addresses))\n",
    "print(\"Total college phone numbers collected: \", len(state_college_phones))\n",
    "print(\"Note: All above should be same. If not you'll have to reject the extras and make them all same to save.\")"
   ]
  },
  {
   "cell_type": "markdown",
   "metadata": {},
   "source": [
    "### Convert data to pandas dataframe and print first 5 rows "
   ]
  },
  {
   "cell_type": "code",
   "execution_count": null,
   "metadata": {},
   "outputs": [],
   "source": [
    "# convert to dataframe\n",
    "college_dataframe = pd.DataFrame(\n",
    "    {'college_name': state_college_names,\n",
    "     'college_address': state_college_addresses,\n",
    "     'college_phone': state_college_phones\n",
    "    })\n",
    "columnsTitles = [\"college_name\", \"college_address\", \"college_phone\"]\n",
    "college_dataframe = college_dataframe.reindex(columns=columnsTitles)"
   ]
  },
  {
   "cell_type": "code",
   "execution_count": null,
   "metadata": {},
   "outputs": [],
   "source": [
    "college_dataframe[:5]"
   ]
  },
  {
   "cell_type": "markdown",
   "metadata": {},
   "source": [
    "## Save dataframe (REMEMBER TO CHANGE FILENAME)\n",
    "Change *filename* without extension"
   ]
  },
  {
   "cell_type": "code",
   "execution_count": null,
   "metadata": {},
   "outputs": [],
   "source": [
    "filename = \"college_name\"\n",
    "\n",
    "college_dataframe.to_csv(filename + \".csv\", sep=',', index=None)\n",
    "college_dataframe.to_excel(filename + \".xlsx\")\n",
    "print(\"Files saved.\")"
   ]
  },
  {
   "cell_type": "code",
   "execution_count": null,
   "metadata": {
    "collapsed": true
   },
   "outputs": [],
   "source": []
  }
 ],
 "metadata": {
  "kernelspec": {
   "display_name": "Python 3",
   "language": "python",
   "name": "python3"
  },
  "language_info": {
   "codemirror_mode": {
    "name": "ipython",
    "version": 3
   },
   "file_extension": ".py",
   "mimetype": "text/x-python",
   "name": "python",
   "nbconvert_exporter": "python",
   "pygments_lexer": "ipython3",
   "version": "3.6.8"
  }
 },
 "nbformat": 4,
 "nbformat_minor": 2
}
